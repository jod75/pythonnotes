{
 "cells": [
  {
   "cell_type": "markdown",
   "id": "bd7435da-52a8-4103-8fdb-81789c6a959d",
   "metadata": {},
   "source": [
    "# 6. Python notes - Ranges, Indexing, and Slices\n",
    "\n",
    "The following blocks demonstrate the use of ranges and how one can iterate over a subset of a range using slicing."
   ]
  },
  {
   "cell_type": "code",
   "execution_count": 1,
   "id": "5829d134-acf5-4934-80dd-d7bbf188f6ac",
   "metadata": {},
   "outputs": [
    {
     "name": "stdout",
     "output_type": "stream",
     "text": [
      "1\n",
      "2\n",
      "3\n",
      "4\n",
      "5\n",
      "6\n",
      "7\n",
      "8\n",
      "9\n"
     ]
    }
   ],
   "source": [
    "integers = range(1, 10) # this creates an iterator, not an array, over a set of integers from 1 to 9\n",
    "for i in integers: print(i)"
   ]
  },
  {
   "cell_type": "markdown",
   "id": "75f0eebf-dbde-4918-b8c6-102bd6eaf8f0",
   "metadata": {},
   "source": [
    "You can use convertors to convert a range to an array.  **Note:** try to convert iterators to arrays to a minimum.  The advantage of iterators over arrays is tha they have a much lesser memory footprint and thus they are more efficient."
   ]
  },
  {
   "cell_type": "code",
   "execution_count": 2,
   "id": "feb537f4-3faf-49eb-b01d-2baca7b465d5",
   "metadata": {},
   "outputs": [
    {
     "name": "stdout",
     "output_type": "stream",
     "text": [
      "[0, 1, 2, 3, 4, 5, 6, 7, 8, 9]\n"
     ]
    }
   ],
   "source": [
    "a = list(range(0,10))\n",
    "print(a)"
   ]
  },
  {
   "cell_type": "markdown",
   "id": "556f6084-7f53-4ca5-a2c1-2e5aa90c1fb5",
   "metadata": {},
   "source": [
    "Everyone knows the rhyme of 99 bottles on the wall.  Let's implement int using Python!\n",
    "\n",
    "We will start from 10, so that our output is not long :) cheers!"
   ]
  },
  {
   "cell_type": "code",
   "execution_count": 3,
   "id": "9bdf153d-2462-4793-b0c1-b0a2f0e51760",
   "metadata": {},
   "outputs": [
    {
     "name": "stdout",
     "output_type": "stream",
     "text": [
      "10 bottles of beer on the wall, 10 bottles of beer!\n",
      "So take it down, pass it around, 9 more bottles of beer on the wall!\n",
      "9 bottles of beer on the wall, 9 bottles of beer!\n",
      "So take it down, pass it around, 8 more bottles of beer on the wall!\n",
      "8 bottles of beer on the wall, 8 bottles of beer!\n",
      "So take it down, pass it around, 7 more bottles of beer on the wall!\n",
      "7 bottles of beer on the wall, 7 bottles of beer!\n",
      "So take it down, pass it around, 6 more bottles of beer on the wall!\n",
      "6 bottles of beer on the wall, 6 bottles of beer!\n",
      "So take it down, pass it around, 5 more bottles of beer on the wall!\n",
      "5 bottles of beer on the wall, 5 bottles of beer!\n",
      "So take it down, pass it around, 4 more bottles of beer on the wall!\n",
      "4 bottles of beer on the wall, 4 bottles of beer!\n",
      "So take it down, pass it around, 3 more bottles of beer on the wall!\n",
      "3 bottles of beer on the wall, 3 bottles of beer!\n",
      "So take it down, pass it around, 2 more bottles of beer on the wall!\n",
      "2 more bottles of beer on the wall, 2 more bottles of beer!\n",
      "So take one down, pass it around, 1 more bottle of beer on the wall!\n",
      "1 bottle of beer on the wall, 1 bottle of beer!\n",
      "So take it down, pass it around, no more bottles of beer on the wall!\n"
     ]
    }
   ],
   "source": [
    "for i in range(10, 0, -1):   # range(start, stop, step)\n",
    "        if i == 1:\n",
    "                print('1 bottle of beer on the wall, 1 bottle of beer!')\n",
    "                print('So take it down, pass it around, no more bottles of beer on the wall!')\n",
    "        elif i == 2:\n",
    "                print('2 more bottles of beer on the wall, 2 more bottles of beer!')\n",
    "                print('So take one down, pass it around, 1 more bottle of beer on the wall!')\n",
    "        else:\n",
    "                print('{0} bottles of beer on the wall, {0} bottles of beer!'.format(i))\n",
    "                print('So take it down, pass it around, {0} more bottles of beer on the wall!'.format(i - 1))"
   ]
  },
  {
   "cell_type": "markdown",
   "id": "6fac54c0-f233-4306-926c-57449ce05a2d",
   "metadata": {},
   "source": [
    "**Enumeration**\n",
    "\n",
    "The next block demonstrates how one can iterate over a range and use the index to perform some other operations."
   ]
  },
  {
   "cell_type": "code",
   "execution_count": 4,
   "id": "aac1080b-50c2-4898-b79e-adcbb0f7851e",
   "metadata": {},
   "outputs": [
    {
     "name": "stdout",
     "output_type": "stream",
     "text": [
      "0 is at index 0\n",
      "10 is at index 1\n",
      "20 is at index 2\n",
      "30 is at index 3\n",
      "40 is at index 4\n",
      "50 is at index 5\n",
      "60 is at index 6\n",
      "70 is at index 7\n",
      "80 is at index 8\n",
      "90 is at index 9\n"
     ]
    }
   ],
   "source": [
    "tens = range(0, 100, 10)\n",
    "for idx, i in enumerate(tens): print(i, 'is at index', idx) "
   ]
  },
  {
   "cell_type": "markdown",
   "id": "1d67b0c8-fb36-48e9-85d7-21f63e611e0f",
   "metadata": {},
   "source": [
    "**Slicing**"
   ]
  },
  {
   "cell_type": "code",
   "execution_count": 5,
   "id": "38a54048-0427-426e-9710-9e7a7d538854",
   "metadata": {},
   "outputs": [],
   "source": [
    "colours = ['red', 'green', 'blue']"
   ]
  },
  {
   "cell_type": "markdown",
   "id": "05f4d472-f23e-407f-8978-8e8501c07ab4",
   "metadata": {},
   "source": [
    "Print `colours` by iterating over the array."
   ]
  },
  {
   "cell_type": "code",
   "execution_count": 6,
   "id": "43af2dfd-c7e5-4f0b-a4c6-eb97ab45cb4d",
   "metadata": {},
   "outputs": [
    {
     "name": "stdout",
     "output_type": "stream",
     "text": [
      "red\n",
      "green\n",
      "blue\n"
     ]
    }
   ],
   "source": [
    "for c in colours: print(c)"
   ]
  },
  {
   "cell_type": "markdown",
   "id": "b276a61f-88a5-4740-b48b-ebba840473cc",
   "metadata": {},
   "source": [
    "Slice over `colours` to display the first 2 elements (0 is the first element) in the array."
   ]
  },
  {
   "cell_type": "code",
   "execution_count": 7,
   "id": "2acd6dd0-a4fa-43b6-9fa2-474dd3294300",
   "metadata": {},
   "outputs": [
    {
     "name": "stdout",
     "output_type": "stream",
     "text": [
      "['red', 'green']\n"
     ]
    }
   ],
   "source": [
    "print(colours[0:2])"
   ]
  },
  {
   "cell_type": "markdown",
   "id": "45672061-68a6-409e-8fc9-3e8563e5c476",
   "metadata": {},
   "source": [
    "You can use negative indexing to start from the back."
   ]
  },
  {
   "cell_type": "code",
   "execution_count": 8,
   "id": "90c79dbc-2045-422e-8f7b-36bdf4fe6e85",
   "metadata": {},
   "outputs": [
    {
     "name": "stdout",
     "output_type": "stream",
     "text": [
      "blue\n"
     ]
    }
   ],
   "source": [
    "print(colours[-1])"
   ]
  },
  {
   "cell_type": "code",
   "execution_count": 9,
   "id": "4d0a9a04-eabf-4927-9746-97a865feb379",
   "metadata": {},
   "outputs": [
    {
     "name": "stdout",
     "output_type": "stream",
     "text": [
      "['green', 'blue']\n"
     ]
    }
   ],
   "source": [
    "print(colours[-2:])"
   ]
  },
  {
   "cell_type": "markdown",
   "id": "8f444244-70cc-47cb-836b-32b76709f0ba",
   "metadata": {},
   "source": [
    "Let's add a couple of colours to our array and then use `slice()` to create array subsets."
   ]
  },
  {
   "cell_type": "code",
   "execution_count": 10,
   "id": "db1dced6-1624-4fbd-a46f-2392f3d5b2ed",
   "metadata": {},
   "outputs": [
    {
     "name": "stdout",
     "output_type": "stream",
     "text": [
      "['red', 'green', 'blue', 'yellow', 'orange']\n"
     ]
    }
   ],
   "source": [
    "colours.append('yellow')\n",
    "colours.append('orange')\n",
    "print(colours)"
   ]
  },
  {
   "cell_type": "code",
   "execution_count": 11,
   "id": "f40e3a4c-c15c-4800-a3bd-d83b16b142e5",
   "metadata": {},
   "outputs": [
    {
     "name": "stdout",
     "output_type": "stream",
     "text": [
      "slice(2, 4, None)\n"
     ]
    }
   ],
   "source": [
    "s = slice(2, 4)\n",
    "print(s)"
   ]
  },
  {
   "cell_type": "code",
   "execution_count": 12,
   "id": "da844f0d-d18b-4bf3-a1a1-941d79b8696c",
   "metadata": {},
   "outputs": [
    {
     "name": "stdout",
     "output_type": "stream",
     "text": [
      "['blue', 'yellow']\n"
     ]
    }
   ],
   "source": [
    "print(colours[s])"
   ]
  },
  {
   "cell_type": "code",
   "execution_count": 13,
   "id": "1922e853-8a25-4f00-87ee-9548657757a0",
   "metadata": {},
   "outputs": [
    {
     "name": "stdout",
     "output_type": "stream",
     "text": [
      "['red', 'blue', 'orange']\n"
     ]
    }
   ],
   "source": [
    "s = slice(0, 5, 2)\n",
    "print(colours[s])"
   ]
  },
  {
   "cell_type": "markdown",
   "id": "68ec1c5b-6d01-42e4-83ce-a685ae21f2e8",
   "metadata": {},
   "source": [
    "The `slice` object exposes an `indices()` method to facilitates indexing and array walks."
   ]
  },
  {
   "cell_type": "code",
   "execution_count": 14,
   "id": "f7017773-0a66-4e31-a590-1f2e892c1c24",
   "metadata": {},
   "outputs": [
    {
     "name": "stdout",
     "output_type": "stream",
     "text": [
      "(0, 10, 1)\n"
     ]
    }
   ],
   "source": [
    "# e.g.\n",
    "print(slice(0,10).indices(50))"
   ]
  },
  {
   "cell_type": "markdown",
   "id": "da3d3d84-3c12-4b04-a665-5d1e9155aba0",
   "metadata": {},
   "source": [
    "As already seen in other notebooks, a string is an array of characters.  Indexing comes in handy to get substrings or perhaps reversing a string.  For the latter, we use negative stepping or negative striding.  Let's see some examples."
   ]
  },
  {
   "cell_type": "code",
   "execution_count": 15,
   "id": "463e6be3-08f1-4d5c-ab19-3ad7c76fdac0",
   "metadata": {},
   "outputs": [
    {
     "name": "stdout",
     "output_type": "stream",
     "text": [
      "Amor\n"
     ]
    }
   ],
   "source": [
    "s = 'Amor vincit omnia.'\n",
    "print(s[0:4])"
   ]
  },
  {
   "cell_type": "code",
   "execution_count": 16,
   "id": "eaabdb68-c6df-456b-88d9-1e3555714ee5",
   "metadata": {},
   "outputs": [
    {
     "name": "stdout",
     "output_type": "stream",
     "text": [
      "vincit\n"
     ]
    }
   ],
   "source": [
    "print(s[5:11])"
   ]
  },
  {
   "cell_type": "code",
   "execution_count": 17,
   "id": "16c63724-0dbd-4962-8ecf-1fe41a91a37d",
   "metadata": {},
   "outputs": [
    {
     "name": "stdout",
     "output_type": "stream",
     "text": [
      "vni\n"
     ]
    }
   ],
   "source": [
    "print(s[5:11:2])"
   ]
  },
  {
   "cell_type": "code",
   "execution_count": 18,
   "id": "c142705c-f323-4d2c-9a65-6e25668e85d0",
   "metadata": {},
   "outputs": [
    {
     "name": "stdout",
     "output_type": "stream",
     "text": [
      ".ainmo ticniv romA\n"
     ]
    }
   ],
   "source": [
    "print(s[::-1])"
   ]
  }
 ],
 "metadata": {
  "kernelspec": {
   "display_name": "Python 3 (ipykernel)",
   "language": "python",
   "name": "python3"
  },
  "language_info": {
   "codemirror_mode": {
    "name": "ipython",
    "version": 3
   },
   "file_extension": ".py",
   "mimetype": "text/x-python",
   "name": "python",
   "nbconvert_exporter": "python",
   "pygments_lexer": "ipython3",
   "version": "3.9.2"
  }
 },
 "nbformat": 4,
 "nbformat_minor": 5
}
