{
 "cells": [
  {
   "cell_type": "markdown",
   "id": "1e46b469-218c-4f99-b070-159e6cf7d3fd",
   "metadata": {},
   "source": [
    "# 8. Python notes - Boolean logic"
   ]
  },
  {
   "cell_type": "markdown",
   "id": "756652bf-f6a1-41e9-8e0a-0eb3bc887ddf",
   "metadata": {},
   "source": [
    "## Comparisons\n",
    "\n",
    "Pyhton's comparison operators are: < > <= >= == !="
   ]
  },
  {
   "cell_type": "code",
   "execution_count": 1,
   "id": "7536f738-ec43-4f7e-a0c7-5f6d1419e356",
   "metadata": {},
   "outputs": [
    {
     "data": {
      "text/plain": [
       "False"
      ]
     },
     "execution_count": 1,
     "metadata": {},
     "output_type": "execute_result"
    }
   ],
   "source": [
    "5 < 3"
   ]
  },
  {
   "cell_type": "code",
   "execution_count": 2,
   "id": "06fe3383-5e9a-4df5-9907-def5957b2656",
   "metadata": {},
   "outputs": [
    {
     "data": {
      "text/plain": [
       "True"
      ]
     },
     "execution_count": 2,
     "metadata": {},
     "output_type": "execute_result"
    }
   ],
   "source": [
    "3 == 3"
   ]
  },
  {
   "cell_type": "code",
   "execution_count": 3,
   "id": "d2bf5784-a35b-4ac3-862e-76ba3eb476c2",
   "metadata": {},
   "outputs": [
    {
     "data": {
      "text/plain": [
       "True"
      ]
     },
     "execution_count": 3,
     "metadata": {},
     "output_type": "execute_result"
    }
   ],
   "source": [
    "7 != 0"
   ]
  },
  {
   "cell_type": "markdown",
   "id": "19b6033b-a16a-4062-85ae-8a95c0720f43",
   "metadata": {},
   "source": [
    "## Logic operators"
   ]
  },
  {
   "cell_type": "code",
   "execution_count": 4,
   "id": "10757e2f-b37d-443d-8cf8-c1a43b3cd796",
   "metadata": {},
   "outputs": [
    {
     "name": "stdout",
     "output_type": "stream",
     "text": [
      "Logic OR\n",
      "False or False =  False\n",
      "False or True  =  True\n",
      "True  or False =  True\n",
      "True  or True  =  True\n"
     ]
    }
   ],
   "source": [
    "# logic or\n",
    "\n",
    "print(\"Logic OR\")\n",
    "print(\"False or False = \", False or False)\n",
    "print(\"False or True  = \", False or True)\n",
    "print(\"True  or False = \", True or False)\n",
    "print(\"True  or True  = \", True or True)"
   ]
  },
  {
   "cell_type": "code",
   "execution_count": 5,
   "id": "6476eaaa-4246-463b-8b62-c7250d526954",
   "metadata": {},
   "outputs": [
    {
     "name": "stdout",
     "output_type": "stream",
     "text": [
      "Logic AND\n",
      "False and False =  False\n",
      "False and True  =  False\n",
      "True  and False =  False\n",
      "True  and True  =  True\n"
     ]
    }
   ],
   "source": [
    "# logic and\n",
    "\n",
    "print(\"Logic AND\")\n",
    "print(\"False and False = \", False and False)\n",
    "print(\"False and True  = \", False and True)\n",
    "print(\"True  and False = \", True and False)\n",
    "print(\"True  and True  = \", True and True)"
   ]
  },
  {
   "cell_type": "code",
   "execution_count": 6,
   "id": "174ef186-1785-4dc1-baac-111355b292a6",
   "metadata": {},
   "outputs": [
    {
     "name": "stdout",
     "output_type": "stream",
     "text": [
      "Logic NOT\n",
      "Not True  =  False\n",
      "Not False =  True\n"
     ]
    }
   ],
   "source": [
    "# logic not\n",
    "\n",
    "print(\"Logic NOT\")\n",
    "print(\"Not True  = \", not True)\n",
    "print(\"Not False = \", not False)"
   ]
  },
  {
   "cell_type": "markdown",
   "id": "04ed7498-c002-4f3f-8953-0a5d9347b6a4",
   "metadata": {},
   "source": [
    "Note that Python uses a _shortcut evaluation_ while performing logical operation.  For example, if a series of _or_ operations are performed and one value is _true_, then the evaluation stops and returns _true_.  The same applies in case of _false_ and _and_ operation.  One _false_ value is enough to return _false_ in case of a series of _and_ operations.\n",
    "\n",
    "However, this can be dangerous if the values being passed are not boolean.  In this case, the value returned will be a non logical operation.  See examples below."
   ]
  },
  {
   "cell_type": "code",
   "execution_count": 7,
   "id": "a9537ec4-f80d-4294-b7e7-cd23c039b79f",
   "metadata": {},
   "outputs": [
    {
     "data": {
      "text/plain": [
       "'a'"
      ]
     },
     "execution_count": 7,
     "metadata": {},
     "output_type": "execute_result"
    }
   ],
   "source": [
    "\"a\" or True"
   ]
  },
  {
   "cell_type": "code",
   "execution_count": 8,
   "id": "9abdbc66-36f3-4343-9e7d-91a1421e3b0a",
   "metadata": {},
   "outputs": [
    {
     "data": {
      "text/plain": [
       "'b'"
      ]
     },
     "execution_count": 8,
     "metadata": {},
     "output_type": "execute_result"
    }
   ],
   "source": [
    "True and \"b\""
   ]
  },
  {
   "cell_type": "code",
   "execution_count": 9,
   "id": "3c749c7f-d1ac-4dcd-b186-6a15772efb5d",
   "metadata": {},
   "outputs": [
    {
     "data": {
      "text/plain": [
       "False"
      ]
     },
     "execution_count": 9,
     "metadata": {},
     "output_type": "execute_result"
    }
   ],
   "source": [
    "\"c\" and False"
   ]
  },
  {
   "cell_type": "code",
   "execution_count": 10,
   "id": "cebe3ab8-305c-4f3f-acdb-4a92779817fe",
   "metadata": {},
   "outputs": [
    {
     "data": {
      "text/plain": [
       "'d'"
      ]
     },
     "execution_count": 10,
     "metadata": {},
     "output_type": "execute_result"
    }
   ],
   "source": [
    "\"False\" and \"d\""
   ]
  },
  {
   "cell_type": "markdown",
   "id": "95afdaeb-fee1-4178-b10b-c3c9bec37819",
   "metadata": {},
   "source": [
    "## Bitwise operators"
   ]
  },
  {
   "cell_type": "markdown",
   "id": "9f05378b-64dc-4cbc-b609-fae99cfe2330",
   "metadata": {},
   "source": [
    "Python has four (4) bitwise logical operators and two (2) biwise shift operators:\n",
    "\n",
    "| Symbol | Operator |\n",
    "| :-: | :-: |\n",
    "| & | and \n",
    "| \\| | or\n",
    "| ~ | not\n",
    "| ^ | xor\n",
    "| << | Shift left\n",
    "| >> | Shift right"
   ]
  },
  {
   "cell_type": "code",
   "execution_count": 11,
   "id": "99b5d5cf-f145-4e66-9517-c69584e3f4f6",
   "metadata": {},
   "outputs": [],
   "source": [
    "# Let a be 6, and b be 2\n",
    "\n",
    "a=int('0110', 2)\n",
    "b=int('0010', 2)"
   ]
  },
  {
   "cell_type": "code",
   "execution_count": 12,
   "id": "fa3df8c5-fa17-451c-832e-6127c0597493",
   "metadata": {},
   "outputs": [
    {
     "data": {
      "text/plain": [
       "'0b10'"
      ]
     },
     "execution_count": 12,
     "metadata": {},
     "output_type": "execute_result"
    }
   ],
   "source": [
    "# we use bin() to display the integer in binary value\n",
    "bin(a & b)"
   ]
  },
  {
   "cell_type": "code",
   "execution_count": 13,
   "id": "a022b351-908c-4b7e-bf61-587e357a2fa9",
   "metadata": {},
   "outputs": [
    {
     "data": {
      "text/plain": [
       "'0b110'"
      ]
     },
     "execution_count": 13,
     "metadata": {},
     "output_type": "execute_result"
    }
   ],
   "source": [
    "bin(a | b)"
   ]
  },
  {
   "cell_type": "code",
   "execution_count": 14,
   "id": "facd0ec8-caad-4114-a5d7-5ea92d0172df",
   "metadata": {},
   "outputs": [
    {
     "data": {
      "text/plain": [
       "'0b100'"
      ]
     },
     "execution_count": 14,
     "metadata": {},
     "output_type": "execute_result"
    }
   ],
   "source": [
    "bin(a ^ b)"
   ]
  },
  {
   "cell_type": "code",
   "execution_count": 15,
   "id": "a2a2c4d9-2151-44d9-8a4e-09f84e15ed2f",
   "metadata": {},
   "outputs": [
    {
     "data": {
      "text/plain": [
       "'-0b111'"
      ]
     },
     "execution_count": 15,
     "metadata": {},
     "output_type": "execute_result"
    }
   ],
   "source": [
    "bin(~a)"
   ]
  },
  {
   "cell_type": "code",
   "execution_count": 16,
   "id": "bbfd315d-5d97-4fc4-9eee-69c20127b664",
   "metadata": {},
   "outputs": [
    {
     "data": {
      "text/plain": [
       "'0b1100'"
      ]
     },
     "execution_count": 16,
     "metadata": {},
     "output_type": "execute_result"
    }
   ],
   "source": [
    "bin(a << 1)"
   ]
  },
  {
   "cell_type": "code",
   "execution_count": 17,
   "id": "a051d4a5-97b2-44b8-b2a5-b4580d850dcf",
   "metadata": {},
   "outputs": [
    {
     "data": {
      "text/plain": [
       "'0b11'"
      ]
     },
     "execution_count": 17,
     "metadata": {},
     "output_type": "execute_result"
    }
   ],
   "source": [
    "bin(a >> 1)"
   ]
  },
  {
   "cell_type": "code",
   "execution_count": null,
   "id": "a0b8a368-4765-4867-a93e-221d5414e8fc",
   "metadata": {},
   "outputs": [],
   "source": []
  }
 ],
 "metadata": {
  "kernelspec": {
   "display_name": "Python 3 (ipykernel)",
   "language": "python",
   "name": "python3"
  },
  "language_info": {
   "codemirror_mode": {
    "name": "ipython",
    "version": 3
   },
   "file_extension": ".py",
   "mimetype": "text/x-python",
   "name": "python",
   "nbconvert_exporter": "python",
   "pygments_lexer": "ipython3",
   "version": "3.9.2"
  }
 },
 "nbformat": 4,
 "nbformat_minor": 5
}
