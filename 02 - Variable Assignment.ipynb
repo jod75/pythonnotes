{
 "cells": [
  {
   "cell_type": "markdown",
   "id": "3356daa7",
   "metadata": {},
   "source": [
    "# 2. Python notes - Variable Assignement"
   ]
  },
  {
   "cell_type": "markdown",
   "id": "011a777a",
   "metadata": {},
   "source": [
    "## Variable assignment"
   ]
  },
  {
   "cell_type": "code",
   "execution_count": 1,
   "id": "0ad45331",
   "metadata": {},
   "outputs": [],
   "source": [
    "# the _import_ keyword is used to use third party libraries in your code.  In this case, we are using the _math_ library\n",
    "import math"
   ]
  },
  {
   "cell_type": "code",
   "execution_count": null,
   "id": "9cf70907",
   "metadata": {},
   "outputs": [],
   "source": [
    "pi = 3.14\n",
    "theta = 1 / 2 ** 0.5      # ** is the power of\n",
    "y = 2 * pi * math.sin(theta)\n",
    "print(y)"
   ]
  },
  {
   "cell_type": "markdown",
   "id": "871c367b",
   "metadata": {},
   "source": [
    "Assign to the same value"
   ]
  },
  {
   "cell_type": "code",
   "execution_count": null,
   "id": "fe3e64ff",
   "metadata": {},
   "outputs": [],
   "source": [
    "a = b = c = 0\n",
    "print(a, b, c)"
   ]
  },
  {
   "cell_type": "markdown",
   "id": "40a7cc63",
   "metadata": {},
   "source": [
    "Multiple assignments"
   ]
  },
  {
   "cell_type": "code",
   "execution_count": null,
   "id": "e20df2a2",
   "metadata": {},
   "outputs": [],
   "source": [
    "x, y, z = 2, 3, 4\n",
    "print(x, y, z)"
   ]
  },
  {
   "cell_type": "markdown",
   "id": "fedc8f5d",
   "metadata": {},
   "source": [
    "Swap values"
   ]
  },
  {
   "cell_type": "code",
   "execution_count": null,
   "id": "96737cf9",
   "metadata": {},
   "outputs": [],
   "source": [
    "a, b = 2, 3\n",
    "print(a, b)"
   ]
  },
  {
   "cell_type": "code",
   "execution_count": null,
   "id": "3f6ef16c",
   "metadata": {},
   "outputs": [],
   "source": [
    "a, b = b, a\n",
    "print(a, b)"
   ]
  },
  {
   "cell_type": "markdown",
   "id": "2b68d964",
   "metadata": {},
   "source": [
    "Unpacking of sequence in item and list"
   ]
  },
  {
   "cell_type": "code",
   "execution_count": null,
   "id": "ca3b1d40",
   "metadata": {},
   "outputs": [],
   "source": [
    "seq = [1, 2, 3, 4]\n",
    "print(seq)"
   ]
  },
  {
   "cell_type": "code",
   "execution_count": null,
   "id": "4758884a",
   "metadata": {},
   "outputs": [],
   "source": [
    "a, *b = seq\n",
    "print(a, b)"
   ]
  },
  {
   "cell_type": "code",
   "execution_count": null,
   "id": "15153379",
   "metadata": {},
   "outputs": [],
   "source": [
    "*a, b = seq\n",
    "print(a, b)"
   ]
  },
  {
   "cell_type": "code",
   "execution_count": null,
   "id": "04739c67",
   "metadata": {},
   "outputs": [],
   "source": [
    "*a, b, c = seq\n",
    "print(a, b, c)"
   ]
  },
  {
   "cell_type": "markdown",
   "id": "8b3581b0",
   "metadata": {},
   "source": [
    "Self assigning number manipulation"
   ]
  },
  {
   "cell_type": "code",
   "execution_count": null,
   "id": "952505f8",
   "metadata": {},
   "outputs": [],
   "source": [
    "a = 0\n",
    "a += 3\n",
    "print(a)"
   ]
  },
  {
   "cell_type": "code",
   "execution_count": null,
   "id": "a1019512",
   "metadata": {},
   "outputs": [],
   "source": [
    "a-=1\n",
    "print(a)"
   ]
  },
  {
   "cell_type": "code",
   "execution_count": null,
   "id": "79425a94",
   "metadata": {},
   "outputs": [],
   "source": [
    "a*=2\n",
    "print(a)"
   ]
  },
  {
   "cell_type": "code",
   "execution_count": null,
   "id": "afe6d3b2",
   "metadata": {},
   "outputs": [],
   "source": [
    "a/=2\n",
    "print(a)"
   ]
  },
  {
   "cell_type": "code",
   "execution_count": null,
   "id": "e007f49c",
   "metadata": {},
   "outputs": [],
   "source": [
    "a%=2\n",
    "print(a)"
   ]
  },
  {
   "cell_type": "markdown",
   "id": "b92dd092",
   "metadata": {},
   "source": [
    "Undefined and removing variables"
   ]
  },
  {
   "cell_type": "code",
   "execution_count": null,
   "id": "51ac1632",
   "metadata": {},
   "outputs": [],
   "source": [
    "a = None\n",
    "print(a)"
   ]
  },
  {
   "cell_type": "code",
   "execution_count": null,
   "id": "a8bc04fc",
   "metadata": {},
   "outputs": [],
   "source": [
    "del a\n",
    "print(a)"
   ]
  }
 ],
 "metadata": {
  "kernelspec": {
   "display_name": "Python 3 (ipykernel)",
   "language": "python",
   "name": "python3"
  },
  "language_info": {
   "codemirror_mode": {
    "name": "ipython",
    "version": 3
   },
   "file_extension": ".py",
   "mimetype": "text/x-python",
   "name": "python",
   "nbconvert_exporter": "python",
   "pygments_lexer": "ipython3",
   "version": "3.9.2"
  }
 },
 "nbformat": 4,
 "nbformat_minor": 5
}
