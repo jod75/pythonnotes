{
 "cells": [
  {
   "cell_type": "markdown",
   "id": "3356daa7",
   "metadata": {},
   "source": [
    "# 0. Python notes"
   ]
  },
  {
   "cell_type": "markdown",
   "id": "d071ae34",
   "metadata": {},
   "source": [
    "Let's keep the tradition!"
   ]
  },
  {
   "cell_type": "code",
   "execution_count": 1,
   "id": "930d6076",
   "metadata": {},
   "outputs": [
    {
     "name": "stdout",
     "output_type": "stream",
     "text": [
      "Hello to the python world!\n"
     ]
    }
   ],
   "source": [
    "print(\"Hello to the python world!\")"
   ]
  },
  {
   "cell_type": "markdown",
   "id": "ba84aa8a-952f-4130-9079-2d7b016e0578",
   "metadata": {},
   "source": [
    "The aim of this series is to get you started with Python as fast as possible.  It also serves as a refresher to students who know the language but are a bit rusty after summer holidays!  The Python notebooks are simple and straight to the point.  Leave us any comment if you find these useful."
   ]
  },
  {
   "cell_type": "markdown",
   "id": "3b974db9-ea48-4abd-8f12-84d58dbe04cd",
   "metadata": {
    "tags": []
   },
   "source": [
    "The notebooks are written in a way to demonstrate the feature/aspect being presented programmatically.  You will never see more text in the series than this one!  It is meant for programmers ;)"
   ]
  },
  {
   "cell_type": "markdown",
   "id": "e5ff65f0-0e3c-4c90-9e37-10bfd17272f9",
   "metadata": {},
   "source": [
    "Python is a multi-paradigm language, it is both functional and object oriented.  This series focuses on the Python keywords, syntax, and basic operations. It is not intended to teach or show any object-oriented principles or programming practices."
   ]
  },
  {
   "cell_type": "code",
   "execution_count": 2,
   "id": "5ed80cdc-5c77-4df7-aaa6-a29b735c2877",
   "metadata": {},
   "outputs": [
    {
     "name": "stdout",
     "output_type": "stream",
     "text": [
      "Enjoy!\n"
     ]
    }
   ],
   "source": [
    "print(\"Enjoy!\")"
   ]
  },
  {
   "cell_type": "code",
   "execution_count": null,
   "id": "6e5f0108-0d0a-499e-9cee-df4afc0a51ef",
   "metadata": {},
   "outputs": [],
   "source": []
  }
 ],
 "metadata": {
  "kernelspec": {
   "display_name": "Python 3 (ipykernel)",
   "language": "python",
   "name": "python3"
  },
  "language_info": {
   "codemirror_mode": {
    "name": "ipython",
    "version": 3
   },
   "file_extension": ".py",
   "mimetype": "text/x-python",
   "name": "python",
   "nbconvert_exporter": "python",
   "pygments_lexer": "ipython3",
   "version": "3.9.2"
  }
 },
 "nbformat": 4,
 "nbformat_minor": 5
}
