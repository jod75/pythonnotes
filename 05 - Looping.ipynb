{
 "cells": [
  {
   "cell_type": "markdown",
   "id": "276e72b5-4024-4726-870b-c7bdbc69ea15",
   "metadata": {},
   "source": [
    "# 5. Python notes - Looping\n",
    "\n",
    "There are two main loop statement type, conditional and iterative.  As their name implies, conditional looping repeats a block of statements until a given condition is met.  Iterative loops are special conditional loops, where a block of statements is repeated over a list or a range, for example."
   ]
  },
  {
   "cell_type": "markdown",
   "id": "41422f05",
   "metadata": {},
   "source": [
    "**while loop**\n",
    "\n",
    "The following example implements the algorithm:\n",
    "$$\n",
    "p = \\sum_{i=1} ^{10} i^3\n",
    "  = 3025\n",
    "$$\n",
    "\n",
    "This is an example of conditional loop."
   ]
  },
  {
   "cell_type": "code",
   "execution_count": 1,
   "id": "86629956",
   "metadata": {},
   "outputs": [
    {
     "name": "stdout",
     "output_type": "stream",
     "text": [
      "Sum of power sequence:  3025\n"
     ]
    }
   ],
   "source": [
    "p = 0\n",
    "i = 1\n",
    "\n",
    "while i <= 10:\n",
    "    p+=i ** 3\n",
    "    i+=1\n",
    "    \n",
    "print(\"Sum of power sequence: \", p)"
   ]
  },
  {
   "cell_type": "markdown",
   "id": "827f8a16",
   "metadata": {},
   "source": [
    "Use of **break** statement"
   ]
  },
  {
   "cell_type": "code",
   "execution_count": 2,
   "id": "22ccdedc",
   "metadata": {},
   "outputs": [
    {
     "name": "stdout",
     "output_type": "stream",
     "text": [
      "x =  0\n",
      "x =  1\n",
      "x =  2\n",
      "x =  3\n",
      "x =  4\n",
      "x =  5\n"
     ]
    }
   ],
   "source": [
    "x = 0\n",
    "while True:   \n",
    "    print(\"x = \", x)\n",
    "    if x == 5:\n",
    "        break\n",
    "    x+=1"
   ]
  },
  {
   "cell_type": "markdown",
   "id": "c5f8c361",
   "metadata": {},
   "source": [
    "Use of **continue** statement"
   ]
  },
  {
   "cell_type": "code",
   "execution_count": 3,
   "id": "1ad3fd3d",
   "metadata": {},
   "outputs": [
    {
     "name": "stdout",
     "output_type": "stream",
     "text": [
      "Current letter : P\n",
      "Current letter : y\n",
      "Current letter : t\n",
      "Current letter : h\n",
      "Current letter : o\n",
      "Current letter : n\n",
      "Current letter : i\n",
      "Current letter : s\n",
      "Current letter : f\n",
      "Current letter : u\n",
      "Current letter : n\n"
     ]
    }
   ],
   "source": [
    "for letter in 'Python is fun':\n",
    "    if letter == ' ':   # skip printing spaces\n",
    "        continue\n",
    "    print('Current letter :', letter)"
   ]
  },
  {
   "cell_type": "markdown",
   "id": "eefc5ae4",
   "metadata": {},
   "source": [
    "Use of **else** statement\n",
    "\n",
    "The following example illustrates the combination of an else statement with a for statement that searches for prime numbers from 10 through 20. Taken from http://www.tutorialspoint.com/python/python_loop_control.htm"
   ]
  },
  {
   "cell_type": "code",
   "execution_count": 4,
   "id": "4aadc397",
   "metadata": {},
   "outputs": [
    {
     "name": "stdout",
     "output_type": "stream",
     "text": [
      "10 equals 2 * 5\n",
      "11 is a prime number\n",
      "12 equals 2 * 6\n",
      "13 is a prime number\n",
      "14 equals 2 * 7\n",
      "15 equals 3 * 5\n",
      "16 equals 2 * 8\n",
      "17 is a prime number\n",
      "18 equals 2 * 9\n",
      "19 is a prime number\n"
     ]
    }
   ],
   "source": [
    "for num in range(10,20):  #to iterate between 10 to 20\n",
    "    for i in range(2,num): #to iterate on the factors of the number\n",
    "        if num%i == 0:      #to determine the first factor\n",
    "            j=num/i #to calculate the second factor\n",
    "            print('%d equals %d * %d' % (num,i,j))\n",
    "            break #to move to the next number, the #first FOR\n",
    "    else:        # else part of the loop\n",
    "        print(num, 'is a prime number')"
   ]
  },
  {
   "cell_type": "markdown",
   "id": "ab15cbdf",
   "metadata": {},
   "source": [
    "The **pass** statement is used as a placeholder for future code.\n",
    "\n",
    "When the pass statement is executed, nothing happens, but you avoid getting an error when empty code is not allowed.\n",
    "\n",
    "Empty code is not allowed in loops, function definitions, class definitions, or in if statements."
   ]
  },
  {
   "cell_type": "code",
   "execution_count": 5,
   "id": "21806f0c",
   "metadata": {},
   "outputs": [],
   "source": [
    "def myFunction():\n",
    "    pass\n",
    "\n",
    "myFunction()"
   ]
  },
  {
   "cell_type": "markdown",
   "id": "67eefd89-5331-4ee9-9b07-19e20a56b0dd",
   "metadata": {},
   "source": [
    "The following example demonstrates the use of iterative loops.  The block below iterates over a string and counts the occurances of the letter 'i', both small letters and capital letters."
   ]
  },
  {
   "cell_type": "code",
   "execution_count": 7,
   "id": "89f09dda-52a0-4c52-9ee4-bdc8032302b2",
   "metadata": {},
   "outputs": [
    {
     "name": "stdout",
     "output_type": "stream",
     "text": [
      "There are 11 occurances of \"i\" in \" Arma virumque cano, Troiae qui primus ab oris Italiam, fato profugus, Laviniaque venit litora  \"\n"
     ]
    }
   ],
   "source": [
    "text = 'Arma virumque cano, Troiae qui primus ab oris Italiam, fato profugus, Laviniaque venit litora '\n",
    "count = 0\n",
    "for l in text:\n",
    "    if (l.lower() == 'i'):\n",
    "        count = count + 1\n",
    "\n",
    "print('There are', count, 'occurances of \"i\" in \"', text, '\"')"
   ]
  },
  {
   "cell_type": "markdown",
   "id": "ff5443db-94a3-4961-ad8c-0556bfe3f94c",
   "metadata": {},
   "source": [
    "**Note:** although Python allows you to modify the loop variable, it is a good practice not to change it when using iterative loops.  Changing it may make your code less radable and your debugging process more difficult."
   ]
  },
  {
   "cell_type": "code",
   "execution_count": null,
   "id": "79aae860-030d-470c-8060-e9250e2ce2c7",
   "metadata": {},
   "outputs": [],
   "source": []
  }
 ],
 "metadata": {
  "kernelspec": {
   "display_name": "Python 3 (ipykernel)",
   "language": "python",
   "name": "python3"
  },
  "language_info": {
   "codemirror_mode": {
    "name": "ipython",
    "version": 3
   },
   "file_extension": ".py",
   "mimetype": "text/x-python",
   "name": "python",
   "nbconvert_exporter": "python",
   "pygments_lexer": "ipython3",
   "version": "3.9.2"
  }
 },
 "nbformat": 4,
 "nbformat_minor": 5
}
