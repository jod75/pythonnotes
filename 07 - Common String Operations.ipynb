{
 "cells": [
  {
   "cell_type": "markdown",
   "id": "3356daa7",
   "metadata": {},
   "source": [
    "# 7. Python notes - Common String Operations"
   ]
  },
  {
   "cell_type": "markdown",
   "id": "ed12c544",
   "metadata": {},
   "source": [
    "## Common string operations"
   ]
  },
  {
   "cell_type": "code",
   "execution_count": null,
   "id": "4ea8585a",
   "metadata": {},
   "outputs": [],
   "source": [
    "\"hello \" + \"world!\""
   ]
  },
  {
   "cell_type": "code",
   "execution_count": null,
   "id": "ede396ab",
   "metadata": {},
   "outputs": [],
   "source": [
    "' '.join([\"alpha\", \"beta\", \"gamma\"])"
   ]
  },
  {
   "cell_type": "code",
   "execution_count": null,
   "id": "b6b969fa",
   "metadata": {},
   "outputs": [],
   "source": [
    "'alpha beta gamma'.split()"
   ]
  },
  {
   "cell_type": "code",
   "execution_count": null,
   "id": "9c5ad832",
   "metadata": {},
   "outputs": [],
   "source": [
    "'alpha beta gamma'.split('a')"
   ]
  }
 ],
 "metadata": {
  "kernelspec": {
   "display_name": "Python 3 (ipykernel)",
   "language": "python",
   "name": "python3"
  },
  "language_info": {
   "codemirror_mode": {
    "name": "ipython",
    "version": 3
   },
   "file_extension": ".py",
   "mimetype": "text/x-python",
   "name": "python",
   "nbconvert_exporter": "python",
   "pygments_lexer": "ipython3",
   "version": "3.9.2"
  }
 },
 "nbformat": 4,
 "nbformat_minor": 5
}
