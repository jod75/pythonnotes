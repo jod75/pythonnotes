{
 "cells": [
  {
   "cell_type": "markdown",
   "id": "3356daa7",
   "metadata": {},
   "source": [
    "# 4. Python notes - Conversions"
   ]
  },
  {
   "cell_type": "markdown",
   "id": "3e1933fa",
   "metadata": {},
   "source": [
    "## Conversions"
   ]
  },
  {
   "cell_type": "code",
   "execution_count": null,
   "id": "d9916760",
   "metadata": {},
   "outputs": [],
   "source": [
    "# string to int\n",
    "int(\"42\")"
   ]
  },
  {
   "cell_type": "code",
   "execution_count": null,
   "id": "9f2bfb0b",
   "metadata": {},
   "outputs": [],
   "source": [
    "# integer base number\n",
    "int(\"2a\", 16)"
   ]
  },
  {
   "cell_type": "code",
   "execution_count": null,
   "id": "62728bda",
   "metadata": {},
   "outputs": [],
   "source": [
    "# truncate decimal point\n",
    "int(42.9)"
   ]
  },
  {
   "cell_type": "code",
   "execution_count": null,
   "id": "47a389f6",
   "metadata": {},
   "outputs": [],
   "source": [
    "float(\"6.626e-34\")"
   ]
  },
  {
   "cell_type": "code",
   "execution_count": null,
   "id": "acba0525",
   "metadata": {},
   "outputs": [],
   "source": [
    "float(\"00.314e1\")"
   ]
  },
  {
   "cell_type": "code",
   "execution_count": null,
   "id": "c66e4841",
   "metadata": {},
   "outputs": [],
   "source": [
    "# Rounding to a decimal point\n",
    "x = round(3.14, 1)\n",
    "y = round(9.999, 2)\n",
    "z = round (8.7, 0)\n",
    "print(x, y, z)"
   ]
  },
  {
   "cell_type": "code",
   "execution_count": null,
   "id": "e6151d3a",
   "metadata": {},
   "outputs": [],
   "source": [
    "bNone = bool(None)\n",
    "bEmptyContainer = bool([])\n",
    "bZero = bool(0)\n",
    "print(bNone, bEmptyContainer, bZero)"
   ]
  },
  {
   "cell_type": "code",
   "execution_count": null,
   "id": "345c8681",
   "metadata": {},
   "outputs": [],
   "source": [
    "bool(1)"
   ]
  },
  {
   "cell_type": "code",
   "execution_count": null,
   "id": "76cc5946",
   "metadata": {},
   "outputs": [],
   "source": [
    "bool(\"hello\")"
   ]
  },
  {
   "cell_type": "code",
   "execution_count": null,
   "id": "d7d5dec1",
   "metadata": {},
   "outputs": [],
   "source": [
    "str(\"boo\")"
   ]
  },
  {
   "cell_type": "code",
   "execution_count": null,
   "id": "498d7936",
   "metadata": {},
   "outputs": [],
   "source": [
    "chr(42)"
   ]
  },
  {
   "cell_type": "code",
   "execution_count": null,
   "id": "48af8807",
   "metadata": {},
   "outputs": [],
   "source": [
    "ord('*')"
   ]
  },
  {
   "cell_type": "code",
   "execution_count": null,
   "id": "6ccddf0d",
   "metadata": {},
   "outputs": [],
   "source": [
    "repr(\"bo\\no\") # literal representation of string"
   ]
  },
  {
   "cell_type": "code",
   "execution_count": null,
   "id": "bcf5803b",
   "metadata": {},
   "outputs": [],
   "source": [
    "bytes([42,65,66,67])"
   ]
  },
  {
   "cell_type": "code",
   "execution_count": null,
   "id": "725664b2",
   "metadata": {},
   "outputs": [],
   "source": [
    "list(\"abc\")"
   ]
  },
  {
   "cell_type": "code",
   "execution_count": null,
   "id": "716a632a",
   "metadata": {},
   "outputs": [],
   "source": [
    "dict([(2, \"beta\"), (1, \"alpha\")])"
   ]
  },
  {
   "cell_type": "code",
   "execution_count": null,
   "id": "6c803386",
   "metadata": {},
   "outputs": [],
   "source": [
    "set([\"alpha\", \"beta\", \"gamma\"])"
   ]
  },
  {
   "cell_type": "markdown",
   "id": "9e772371",
   "metadata": {},
   "source": [
    "Sequence to list via _list comprehension_"
   ]
  },
  {
   "cell_type": "code",
   "execution_count": null,
   "id": "e15d326b",
   "metadata": {},
   "outputs": [],
   "source": [
    "[int(x) for x in ('-1', '0', '1', '2', '3')]"
   ]
  }
 ],
 "metadata": {
  "kernelspec": {
   "display_name": "Python 3 (ipykernel)",
   "language": "python",
   "name": "python3"
  },
  "language_info": {
   "codemirror_mode": {
    "name": "ipython",
    "version": 3
   },
   "file_extension": ".py",
   "mimetype": "text/x-python",
   "name": "python",
   "nbconvert_exporter": "python",
   "pygments_lexer": "ipython3",
   "version": "3.9.2"
  }
 },
 "nbformat": 4,
 "nbformat_minor": 5
}
