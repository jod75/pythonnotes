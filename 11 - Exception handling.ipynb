{
 "cells": [
  {
   "cell_type": "markdown",
   "id": "5146a05a-4816-4354-ad61-32e0b852e8a3",
   "metadata": {},
   "source": [
    "# 11. Python notes - Exception handling"
   ]
  },
  {
   "cell_type": "markdown",
   "id": "1783f160-3bdd-4baf-8593-44c9b9eeb9d6",
   "metadata": {},
   "source": [
    "An important aspect in Python programming is indentations.  Through this, the programmer can define different blocks of code.  \n",
    "\n",
    "Throughout this notebook, I will make use of [PEP-8](https://peps.python.org/pep-0008) indentation recommendations, that is, use 4 spaces for each indendation block.  [Python Enhancement Proposals](https://peps.python.org/), known as PEPs. PEP numbers are assigned by the PEP editors, and once assigned are never changed. The version control history of the PEP texts represent their historical record. "
   ]
  },
  {
   "cell_type": "code",
   "execution_count": 1,
   "id": "1af9116d-98bf-4d9a-823f-d3330cd4486c",
   "metadata": {},
   "outputs": [
    {
     "name": "stdout",
     "output_type": "stream",
     "text": [
      ">This is a child block\n",
      ">And this is part of it too.\n",
      "But this is part of the parent block\n"
     ]
    }
   ],
   "source": [
    "# this is a parent block\n",
    "a = 10\n",
    "if (a < 100):       \n",
    "    print(\">This is a child block\")\n",
    "    print(\">And this is part of it too.\")\n",
    "print(\"But this is part of the parent block\")\n"
   ]
  },
  {
   "cell_type": "markdown",
   "id": "42dfd03b-f86c-40ec-8107-9f8b088dd8b7",
   "metadata": {},
   "source": [
    "## Raising errors\n",
    "\n",
    "You can signal an error to notify your code that something is wrong, or not as expected.  Let's see the follwoing two examples."
   ]
  },
  {
   "cell_type": "markdown",
   "id": "f0d0bf14-0b70-4512-b2c7-9a7ceae84dc8",
   "metadata": {},
   "source": [
    "### Example 1\n",
    "In this example we will raise an error if `age` is a negative number."
   ]
  },
  {
   "cell_type": "code",
   "execution_count": 2,
   "id": "61bf6d63-8cde-427b-afbd-3f0490827f03",
   "metadata": {},
   "outputs": [
    {
     "ename": "Exception",
     "evalue": "Sorry, age must be more than 0.",
     "output_type": "error",
     "traceback": [
      "\u001b[0;31m---------------------------------------------------------------------------\u001b[0m",
      "\u001b[0;31mException\u001b[0m                                 Traceback (most recent call last)",
      "\u001b[0;32m/tmp/ipykernel_10809/3965304921.py\u001b[0m in \u001b[0;36m<module>\u001b[0;34m\u001b[0m\n\u001b[1;32m      2\u001b[0m \u001b[0;34m\u001b[0m\u001b[0m\n\u001b[1;32m      3\u001b[0m \u001b[0;32mif\u001b[0m \u001b[0mage\u001b[0m \u001b[0;34m<\u001b[0m \u001b[0;36m0\u001b[0m\u001b[0;34m:\u001b[0m\u001b[0;34m\u001b[0m\u001b[0;34m\u001b[0m\u001b[0m\n\u001b[0;32m----> 4\u001b[0;31m   \u001b[0;32mraise\u001b[0m \u001b[0mException\u001b[0m\u001b[0;34m(\u001b[0m\u001b[0;34m\"Sorry, age must be more than 0.\"\u001b[0m\u001b[0;34m)\u001b[0m\u001b[0;34m\u001b[0m\u001b[0;34m\u001b[0m\u001b[0m\n\u001b[0m",
      "\u001b[0;31mException\u001b[0m: Sorry, age must be more than 0."
     ]
    }
   ],
   "source": [
    "age = -10\n",
    "\n",
    "if age < 0:\n",
    "  raise Exception(\"Sorry, age must be more than 0.\")"
   ]
  },
  {
   "cell_type": "markdown",
   "id": "e9042fb7-96cd-4b17-a5ba-f4fb808a20cc",
   "metadata": {},
   "source": [
    "### Example 2\n",
    "This time, we expect an input to by an integer.  If it is not an integer, we will raise an error."
   ]
  },
  {
   "cell_type": "code",
   "execution_count": 3,
   "id": "bec625ea-f8af-4431-b692-cae50138b532",
   "metadata": {},
   "outputs": [
    {
     "ename": "TypeError",
     "evalue": "Only integers are allowed to represent an id number.",
     "output_type": "error",
     "traceback": [
      "\u001b[0;31m---------------------------------------------------------------------------\u001b[0m",
      "\u001b[0;31mTypeError\u001b[0m                                 Traceback (most recent call last)",
      "\u001b[0;32m/tmp/ipykernel_10809/2182968200.py\u001b[0m in \u001b[0;36m<module>\u001b[0;34m\u001b[0m\n\u001b[1;32m      2\u001b[0m \u001b[0;34m\u001b[0m\u001b[0m\n\u001b[1;32m      3\u001b[0m \u001b[0;32mif\u001b[0m \u001b[0;32mnot\u001b[0m \u001b[0mtype\u001b[0m\u001b[0;34m(\u001b[0m\u001b[0mid\u001b[0m\u001b[0;34m)\u001b[0m \u001b[0;32mis\u001b[0m \u001b[0mint\u001b[0m\u001b[0;34m:\u001b[0m\u001b[0;34m\u001b[0m\u001b[0;34m\u001b[0m\u001b[0m\n\u001b[0;32m----> 4\u001b[0;31m   \u001b[0;32mraise\u001b[0m \u001b[0mTypeError\u001b[0m\u001b[0;34m(\u001b[0m\u001b[0;34m\"Only integers are allowed to represent an id number.\"\u001b[0m\u001b[0;34m)\u001b[0m\u001b[0;34m\u001b[0m\u001b[0;34m\u001b[0m\u001b[0m\n\u001b[0m",
      "\u001b[0;31mTypeError\u001b[0m: Only integers are allowed to represent an id number."
     ]
    }
   ],
   "source": [
    "id = \"hello\"\n",
    "\n",
    "if not type(id) is int:\n",
    "  raise TypeError(\"Only integers are allowed to represent an id number.\")"
   ]
  },
  {
   "cell_type": "markdown",
   "id": "247a922b-97e3-4e2c-a502-1cd42eb20e69",
   "metadata": {},
   "source": [
    "## Handling expections\n",
    "We handle expections so that our program does not stop on errors.  Exceptions are handled with a `try..except` block. \n",
    "\n",
    "Example:"
   ]
  },
  {
   "cell_type": "code",
   "execution_count": 4,
   "id": "4e6ee4ba-c4da-4e5a-abe3-3fb8a874ff02",
   "metadata": {},
   "outputs": [
    {
     "name": "stdout",
     "output_type": "stream",
     "text": [
      "An error occured\n",
      "The try...except block is finished\n"
     ]
    }
   ],
   "source": [
    "try:\n",
    "    undefinedVariable > 0\n",
    "except:\n",
    "    print(\"An error occured\")\n",
    "else:\n",
    "    print(\"Nothing went wrong\")\n",
    "finally:\n",
    "    print(\"The try...except block is finished\")"
   ]
  },
  {
   "cell_type": "markdown",
   "id": "75058d81-5407-45cd-9a37-7d1bdc1adb7b",
   "metadata": {},
   "source": [
    "We can also know what went wrong and display a nice error message without stopping the program."
   ]
  },
  {
   "cell_type": "code",
   "execution_count": 5,
   "id": "ceb00d0b-9edd-4fac-a048-feb6df3efe3e",
   "metadata": {},
   "outputs": [
    {
     "name": "stdout",
     "output_type": "stream",
     "text": [
      "name 'undefinedVariable' is not defined\n",
      "The try...except block is finished\n"
     ]
    }
   ],
   "source": [
    "try:\n",
    "    undefinedVariable > 0\n",
    "except Exception as e:\n",
    "    if hasattr(e, 'message'):\n",
    "        print(e.message)\n",
    "    else:\n",
    "        print(e)\n",
    "else:\n",
    "    print(\"Nothing went wrong\")\n",
    "finally:\n",
    "    print(\"The try...except block is finished\")"
   ]
  },
  {
   "cell_type": "code",
   "execution_count": null,
   "id": "e92090eb-4a1c-4f10-a89c-c9048a31ae39",
   "metadata": {},
   "outputs": [],
   "source": []
  }
 ],
 "metadata": {
  "kernelspec": {
   "display_name": "Python 3 (ipykernel)",
   "language": "python",
   "name": "python3"
  },
  "language_info": {
   "codemirror_mode": {
    "name": "ipython",
    "version": 3
   },
   "file_extension": ".py",
   "mimetype": "text/x-python",
   "name": "python",
   "nbconvert_exporter": "python",
   "pygments_lexer": "ipython3",
   "version": "3.9.2"
  }
 },
 "nbformat": 4,
 "nbformat_minor": 5
}
