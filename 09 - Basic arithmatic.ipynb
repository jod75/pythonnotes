{
 "cells": [
  {
   "cell_type": "markdown",
   "id": "c6733c85-10a1-49a1-b6d2-9d6953aeb608",
   "metadata": {},
   "source": [
    "# 9. Python notes - Basic arithmatic"
   ]
  },
  {
   "cell_type": "markdown",
   "id": "4f432449-1c41-4b1d-a905-e58c598766b0",
   "metadata": {},
   "source": [
    "Before we start, we need to import mathametical functions from the `math` library."
   ]
  },
  {
   "cell_type": "code",
   "execution_count": 2,
   "id": "dfd3fdd8-ac02-423b-b0fd-7624070b946a",
   "metadata": {},
   "outputs": [],
   "source": [
    "import math"
   ]
  },
  {
   "cell_type": "markdown",
   "id": "2ee7247d-734d-41ba-b44a-610ae25f9ff7",
   "metadata": {},
   "source": [
    "## Basic arithmatic\n",
    "\n",
    "| Symbol | Operation |\n",
    "| :-: | :- |\n",
    "| + | Addition\n",
    "| - | Subtraction\n",
    "| * | Multiplication\n",
    "| / | Division\n",
    "| // | Integer division\n",
    "| % | Modulo (remainder)\n",
    "| ** | x<sup>n</sup>"
   ]
  },
  {
   "cell_type": "code",
   "execution_count": 3,
   "id": "83c0bcb6-0651-4656-99fb-b5b885511eb2",
   "metadata": {},
   "outputs": [
    {
     "data": {
      "text/plain": [
       "4.533333333333333"
      ]
     },
     "execution_count": 3,
     "metadata": {},
     "output_type": "execute_result"
    }
   ],
   "source": [
    "# parenthesis takes priority\n",
    "\n",
    "(1 + 2.4) * 4 / 3"
   ]
  },
  {
   "cell_type": "code",
   "execution_count": 4,
   "id": "d1bd8f9a-153e-4561-aabc-d580c702400b",
   "metadata": {},
   "outputs": [
    {
     "data": {
      "text/plain": [
       "3.14"
      ]
     },
     "execution_count": 4,
     "metadata": {},
     "output_type": "execute_result"
    }
   ],
   "source": [
    "# get the absolute value\n",
    "abs(-3.14)"
   ]
  },
  {
   "cell_type": "code",
   "execution_count": 9,
   "id": "a85dc955-d6b0-4674-8011-3536c65200d3",
   "metadata": {},
   "outputs": [
    {
     "name": "stdout",
     "output_type": "stream",
     "text": [
      "round(3.14, 1) =  3.1\n",
      "round(3.15, 1) =  3.1\n"
     ]
    }
   ],
   "source": [
    "# rounding values\n",
    "\n",
    "print(\"round(3.14, 1) = \", round(3.14, 1))\n",
    "print(\"round(3.15, 1) = \", round(3.15, 1))"
   ]
  },
  {
   "cell_type": "code",
   "execution_count": 11,
   "id": "28721023-d11d-48c8-8bd3-554a4df91b99",
   "metadata": {},
   "outputs": [
    {
     "data": {
      "text/plain": [
       "8"
      ]
     },
     "execution_count": 11,
     "metadata": {},
     "output_type": "execute_result"
    }
   ],
   "source": [
    "# power\n",
    "\n",
    "pow(2, 3)"
   ]
  },
  {
   "cell_type": "code",
   "execution_count": 13,
   "id": "1edfe56b-3cbc-4233-9cde-3d774e686164",
   "metadata": {},
   "outputs": [
    {
     "data": {
      "text/plain": [
       "8.0"
      ]
     },
     "execution_count": 13,
     "metadata": {},
     "output_type": "execute_result"
    }
   ],
   "source": [
    "from math import sqrt\n",
    "sqrt(64)"
   ]
  },
  {
   "cell_type": "code",
   "execution_count": 15,
   "id": "91f40009-12ee-48f7-9209-2aa9b682a709",
   "metadata": {},
   "outputs": [
    {
     "data": {
      "text/plain": [
       "2.0"
      ]
     },
     "execution_count": 15,
     "metadata": {},
     "output_type": "execute_result"
    }
   ],
   "source": [
    "from math import *\n",
    "log(e**2)"
   ]
  },
  {
   "cell_type": "code",
   "execution_count": 17,
   "id": "794d5e1f-ca3c-4a00-9210-7b05892bb647",
   "metadata": {},
   "outputs": [
    {
     "data": {
      "text/plain": [
       "1.0"
      ]
     },
     "execution_count": 17,
     "metadata": {},
     "output_type": "execute_result"
    }
   ],
   "source": [
    "sin(pi/2)"
   ]
  },
  {
   "cell_type": "code",
   "execution_count": 18,
   "id": "cb95b660-5978-41d3-92fe-21be535542fc",
   "metadata": {},
   "outputs": [
    {
     "data": {
      "text/plain": [
       "11"
      ]
     },
     "execution_count": 18,
     "metadata": {},
     "output_type": "execute_result"
    }
   ],
   "source": [
    "ceil(10.1)"
   ]
  },
  {
   "cell_type": "code",
   "execution_count": 19,
   "id": "b6296b1e-e77a-4467-ac90-b9c86e91af1c",
   "metadata": {},
   "outputs": [
    {
     "data": {
      "text/plain": [
       "10"
      ]
     },
     "execution_count": 19,
     "metadata": {},
     "output_type": "execute_result"
    }
   ],
   "source": [
    "floor(10.8)"
   ]
  },
  {
   "cell_type": "code",
   "execution_count": null,
   "id": "70ac0296-ecd2-4b53-aaae-327d2fce4097",
   "metadata": {},
   "outputs": [],
   "source": []
  }
 ],
 "metadata": {
  "kernelspec": {
   "display_name": "Python 3 (ipykernel)",
   "language": "python",
   "name": "python3"
  },
  "language_info": {
   "codemirror_mode": {
    "name": "ipython",
    "version": 3
   },
   "file_extension": ".py",
   "mimetype": "text/x-python",
   "name": "python",
   "nbconvert_exporter": "python",
   "pygments_lexer": "ipython3",
   "version": "3.9.2"
  }
 },
 "nbformat": 4,
 "nbformat_minor": 5
}
