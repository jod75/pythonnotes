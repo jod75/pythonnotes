{
 "cells": [
  {
   "cell_type": "markdown",
   "id": "3356daa7",
   "metadata": {},
   "source": [
    "# 1. Python notes - Base Types"
   ]
  },
  {
   "cell_type": "markdown",
   "id": "37ecf383",
   "metadata": {},
   "source": [
    "### Base types\n",
    "**int**"
   ]
  },
  {
   "cell_type": "code",
   "execution_count": null,
   "id": "27b12574",
   "metadata": {},
   "outputs": [],
   "source": [
    "i = 42          # positive\n",
    "i = 0           # zero\n",
    "i = -42         # negative\n",
    "i = 0b00101010  # binary\n",
    "i = 0o52        # octal\n",
    "i = 0x2a        # hexadecimal"
   ]
  },
  {
   "cell_type": "markdown",
   "id": "23e95498",
   "metadata": {},
   "source": [
    "**float**"
   ]
  },
  {
   "cell_type": "code",
   "execution_count": null,
   "id": "3a11d22a",
   "metadata": {},
   "outputs": [],
   "source": [
    "f = 3.14\n",
    "f = 0.0\n",
    "f = 6.626e-34"
   ]
  },
  {
   "cell_type": "markdown",
   "id": "1193583a",
   "metadata": {},
   "source": [
    "**bool**"
   ]
  },
  {
   "cell_type": "code",
   "execution_count": null,
   "id": "27892405",
   "metadata": {},
   "outputs": [],
   "source": [
    "b = True\n",
    "b = False"
   ]
  },
  {
   "cell_type": "markdown",
   "id": "de8976a5",
   "metadata": {},
   "source": [
    "**str**"
   ]
  },
  {
   "cell_type": "code",
   "execution_count": null,
   "id": "c09a4143",
   "metadata": {},
   "outputs": [],
   "source": [
    "s = \"this is a simple string\"\n",
    "s = \"this is an sentence\\non two lines\" # escaped new line char\n",
    "s = \"this is an escaped double quote \\\" \"\n",
    "s = 'this is an escaped single quote \\' '\n",
    "s = \"\"\"this is a multiline string\n",
    "and I am using tabs \\tto display\\tthis\\tpart\"\"\"\n",
    "print(s)"
   ]
  },
  {
   "cell_type": "markdown",
   "id": "3f90f225",
   "metadata": {},
   "source": [
    "**bytes**"
   ]
  },
  {
   "cell_type": "code",
   "execution_count": null,
   "id": "4a386c2b",
   "metadata": {},
   "outputs": [],
   "source": [
    "b = b\"abc\\x2a\\52\" # \\x... hexadecimal, \\... octal\n",
    "print(b)"
   ]
  }
 ],
 "metadata": {
  "kernelspec": {
   "display_name": "Python 3 (ipykernel)",
   "language": "python",
   "name": "python3"
  },
  "language_info": {
   "codemirror_mode": {
    "name": "ipython",
    "version": 3
   },
   "file_extension": ".py",
   "mimetype": "text/x-python",
   "name": "python",
   "nbconvert_exporter": "python",
   "pygments_lexer": "ipython3",
   "version": "3.9.2"
  }
 },
 "nbformat": 4,
 "nbformat_minor": 5
}
