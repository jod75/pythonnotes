{
 "cells": [
  {
   "cell_type": "markdown",
   "id": "3356daa7",
   "metadata": {},
   "source": [
    "# 3. Python notes - Container Types"
   ]
  },
  {
   "cell_type": "markdown",
   "id": "133cdc65",
   "metadata": {},
   "source": [
    "## Container types"
   ]
  },
  {
   "cell_type": "markdown",
   "id": "c64cdf86",
   "metadata": {},
   "source": [
    "**Ordered sequences**, fast index access amd cam contain repeatable/duplicate values"
   ]
  },
  {
   "cell_type": "markdown",
   "id": "d90f8930",
   "metadata": {},
   "source": [
    "Lists"
   ]
  },
  {
   "cell_type": "code",
   "execution_count": 1,
   "id": "a6717f82",
   "metadata": {},
   "outputs": [],
   "source": [
    "l = [1, 3, 5]\n",
    "l = [\"alpha\", 1, 3.14]\n",
    "l = [\"a\"]\n",
    "l = [] # this is an empty list"
   ]
  },
  {
   "cell_type": "code",
   "execution_count": 2,
   "id": "dc253180-488c-40d4-ae9b-c0b24b79bd91",
   "metadata": {},
   "outputs": [
    {
     "name": "stdout",
     "output_type": "stream",
     "text": [
      "[]\n"
     ]
    }
   ],
   "source": [
    "print(l)"
   ]
  },
  {
   "cell_type": "code",
   "execution_count": 3,
   "id": "8e993e77-7cb3-416f-949d-6b9f4405161a",
   "metadata": {},
   "outputs": [
    {
     "name": "stdout",
     "output_type": "stream",
     "text": [
      "['beta']\n"
     ]
    }
   ],
   "source": [
    "l.append(\"beta\")\n",
    "print(l)"
   ]
  },
  {
   "cell_type": "markdown",
   "id": "ad134488",
   "metadata": {},
   "source": [
    "Tuples"
   ]
  },
  {
   "cell_type": "code",
   "execution_count": 4,
   "id": "125d269d",
   "metadata": {},
   "outputs": [],
   "source": [
    "t = (1, 3, 5)\n",
    "t = 1, 3.14, \"alpha\"\n",
    "t = (\"a\",)\n",
    "t = () # this is an empty tuple"
   ]
  },
  {
   "cell_type": "code",
   "execution_count": 5,
   "id": "2f51ba58-1037-4e28-858f-013073ab5e96",
   "metadata": {},
   "outputs": [
    {
     "name": "stdout",
     "output_type": "stream",
     "text": [
      "()\n"
     ]
    }
   ],
   "source": [
    "print(t)"
   ]
  },
  {
   "cell_type": "code",
   "execution_count": 6,
   "id": "3a3450c9-53bf-4c02-a3f5-7a0a617527ac",
   "metadata": {},
   "outputs": [
    {
     "name": "stdout",
     "output_type": "stream",
     "text": [
      "('beta', 'gamma')\n"
     ]
    }
   ],
   "source": [
    "t = t + (\"beta\", \"gamma\")\n",
    "print(t)"
   ]
  },
  {
   "cell_type": "markdown",
   "id": "f3d63fa8",
   "metadata": {},
   "source": [
    "Strings are similar to lists.  They are an ordered sequence of characters or bytes."
   ]
  },
  {
   "cell_type": "code",
   "execution_count": 7,
   "id": "2e16c766",
   "metadata": {},
   "outputs": [
    {
     "name": "stdout",
     "output_type": "stream",
     "text": [
      "b'ABC'\n"
     ]
    }
   ],
   "source": [
    "s = \"this is an ordered sequence of chars\"\n",
    "s = \"\" # this is an empty string\n",
    "s = b\"\" # even this is an empty string\n",
    "s = b\"\\x41\\x42\\x43\" \n",
    "print(s)"
   ]
  },
  {
   "cell_type": "markdown",
   "id": "a6a9e809",
   "metadata": {},
   "source": [
    "**Key containeers**, no _a prioir_ order, fast key access, each key is unique"
   ]
  },
  {
   "cell_type": "markdown",
   "id": "df1264ec",
   "metadata": {},
   "source": [
    "Dictionary, dict {\"key\":\"value\"}"
   ]
  },
  {
   "cell_type": "code",
   "execution_count": 8,
   "id": "6a297049",
   "metadata": {},
   "outputs": [
    {
     "name": "stdout",
     "output_type": "stream",
     "text": [
      "{'a': 1, 'b': 2, 'z': 'last'}\n"
     ]
    }
   ],
   "source": [
    "d = dict(a=1, b=2, z = \"last\")\n",
    "print(d)"
   ]
  },
  {
   "cell_type": "code",
   "execution_count": 9,
   "id": "7baaafd6",
   "metadata": {},
   "outputs": [],
   "source": [
    "d = {} # this is an empty dictionary"
   ]
  },
  {
   "cell_type": "code",
   "execution_count": 10,
   "id": "fca59fa9",
   "metadata": {},
   "outputs": [
    {
     "name": "stdout",
     "output_type": "stream",
     "text": [
      "{'a': 1, 'b': 2, 'pi': 3.14}\n"
     ]
    }
   ],
   "source": [
    "d = {'a':1, 'b':2, 'pi':3.14}\n",
    "print(d)"
   ]
  },
  {
   "cell_type": "markdown",
   "id": "a8431337",
   "metadata": {},
   "source": [
    "Collection, set"
   ]
  },
  {
   "cell_type": "code",
   "execution_count": 11,
   "id": "2cddb5bd",
   "metadata": {},
   "outputs": [
    {
     "name": "stdout",
     "output_type": "stream",
     "text": [
      "{'k2', 'k1', 'k3'}\n"
     ]
    }
   ],
   "source": [
    "s = {\"k1\", \"k2\", \"k3\"}\n",
    "print(s)"
   ]
  },
  {
   "cell_type": "code",
   "execution_count": 12,
   "id": "a653d855",
   "metadata": {},
   "outputs": [
    {
     "name": "stdout",
     "output_type": "stream",
     "text": [
      "{1, 2, 3}\n"
     ]
    }
   ],
   "source": [
    "s = {1, 2, 3, 1}\n",
    "print(s)"
   ]
  },
  {
   "cell_type": "markdown",
   "id": "718921e7",
   "metadata": {},
   "source": [
    "Frozen set\n",
    "In Python, frozenset is the same as set except the forzensets are immutable which means that elements from the frozenset cannot be added or removed once created."
   ]
  },
  {
   "cell_type": "code",
   "execution_count": 13,
   "id": "ee159fc3",
   "metadata": {},
   "outputs": [
    {
     "name": "stdout",
     "output_type": "stream",
     "text": [
      "frozenset({1, 2, 3, 4, 5, 6, 7, 8, 9})\n"
     ]
    }
   ],
   "source": [
    "# tuple of numbers\n",
    "nu = (1, 2, 3, 4, 5, 6, 7, 8, 9)\n",
    " \n",
    "# converting tuple to frozenset\n",
    "fnum = frozenset(nu)\n",
    "print(fnum)"
   ]
  },
  {
   "cell_type": "code",
   "execution_count": 14,
   "id": "6493f379",
   "metadata": {},
   "outputs": [],
   "source": [
    "s = set() # this is an empty set"
   ]
  },
  {
   "cell_type": "markdown",
   "id": "65c5e883-9df0-4fd8-a208-64aaff9bf06d",
   "metadata": {},
   "source": [
    "## Container common operations"
   ]
  },
  {
   "cell_type": "markdown",
   "id": "f59c863c-79db-41ac-ab2f-bf4fc0f9fb21",
   "metadata": {},
   "source": [
    "Basic `min()` `max()` `len()` and `sum()` ooperations.  Note that `sum()` works on numeric containers only."
   ]
  },
  {
   "cell_type": "code",
   "execution_count": 15,
   "id": "7dcba234-3ac6-459e-87bc-64e74967f8e7",
   "metadata": {},
   "outputs": [
    {
     "name": "stdout",
     "output_type": "stream",
     "text": [
      "min = 1, max = 10, length= 10, sum = 55\n"
     ]
    }
   ],
   "source": [
    "c = list(range(1, 11))\n",
    "print('min = %s, max = %s, length= %s, sum = %s' %(min(c), max(c), len(c), sum(c)))"
   ]
  },
  {
   "cell_type": "code",
   "execution_count": 16,
   "id": "ff2bc20f-d3a6-4cfa-b546-1d8521ac327f",
   "metadata": {},
   "outputs": [
    {
     "name": "stdout",
     "output_type": "stream",
     "text": [
      "red green blue orange violet yellow indigo\n"
     ]
    }
   ],
   "source": [
    "colours = ['red', 'green', 'blue', 'orange', 'violet', 'yellow', 'indigo']\n",
    "print(*colours)  # we use the star function to unpack our iterator"
   ]
  },
  {
   "cell_type": "markdown",
   "id": "5b348522-8455-400b-b5d4-485cd79391a8",
   "metadata": {},
   "source": [
    "Containers can be **sorted** using the `sorted()` operation.  The `sorted()` method takes three parameters, an iterator, a `boolean` flag to specify order and an ordering function.  Here are some examples."
   ]
  },
  {
   "cell_type": "code",
   "execution_count": 17,
   "id": "fa7b20b1-7355-41d6-9c95-21d7c0205d38",
   "metadata": {},
   "outputs": [
    {
     "name": "stdout",
     "output_type": "stream",
     "text": [
      "blue green indigo orange red violet yellow\n"
     ]
    }
   ],
   "source": [
    "print(*sorted(colours))"
   ]
  },
  {
   "cell_type": "code",
   "execution_count": 18,
   "id": "31c15dd0-2663-49b7-996d-f4369777cabe",
   "metadata": {},
   "outputs": [
    {
     "name": "stdout",
     "output_type": "stream",
     "text": [
      "yellow violet red orange indigo green blue\n"
     ]
    }
   ],
   "source": [
    "print(*sorted(colours, reverse = True))"
   ]
  },
  {
   "cell_type": "markdown",
   "id": "ce44317a-7063-41af-b5e1-23861fe7e530",
   "metadata": {},
   "source": [
    "The following example demonstrates the use of custom sorting function.  In this case we are sorting on the string length.  But one can create his or her own function to sort on colour wavelength, for example."
   ]
  },
  {
   "cell_type": "code",
   "execution_count": 19,
   "id": "9db40ad5-b913-4ed3-81fc-4aef14e0db5f",
   "metadata": {},
   "outputs": [
    {
     "name": "stdout",
     "output_type": "stream",
     "text": [
      "red blue green orange violet yellow indigo\n"
     ]
    }
   ],
   "source": [
    "print(*sorted(colours, key=len))"
   ]
  },
  {
   "cell_type": "markdown",
   "id": "3283d1ab-854f-4cfc-9cd2-2ea675481a83",
   "metadata": {},
   "source": [
    "**Membership** operators `in` and `not in` are useful to determine if an element is a member of a set or not.  For example:"
   ]
  },
  {
   "cell_type": "code",
   "execution_count": 20,
   "id": "4f996ebe-2d3b-4116-9236-390ec0f51c91",
   "metadata": {},
   "outputs": [
    {
     "name": "stdout",
     "output_type": "stream",
     "text": [
      "True\n"
     ]
    }
   ],
   "source": [
    "print('red' in colours)"
   ]
  },
  {
   "cell_type": "code",
   "execution_count": 21,
   "id": "5f0f8278-b1b5-4ec5-b76f-23e9e39bbb1e",
   "metadata": {},
   "outputs": [
    {
     "name": "stdout",
     "output_type": "stream",
     "text": [
      "True\n"
     ]
    }
   ],
   "source": [
    "print('black' not in colours)"
   ]
  },
  {
   "cell_type": "markdown",
   "id": "267500b8-dd2a-435d-9e6d-90a694998d51",
   "metadata": {},
   "source": [
    "**Enumerators** are used to iterate over a container. The `enumerate()` method returns a list of (_index_, _value_). "
   ]
  },
  {
   "cell_type": "code",
   "execution_count": 22,
   "id": "ff23ad28-e976-4b54-835f-d27c68b31c6a",
   "metadata": {},
   "outputs": [
    {
     "name": "stdout",
     "output_type": "stream",
     "text": [
      "(0, 'red') (1, 'green') (2, 'blue') (3, 'orange') (4, 'violet') (5, 'yellow') (6, 'indigo')\n"
     ]
    }
   ],
   "source": [
    "print(*enumerate(colours))"
   ]
  },
  {
   "cell_type": "markdown",
   "id": "7894e222-9148-4a16-b602-93b9948cb5b3",
   "metadata": {},
   "source": [
    "The `zip()` function returns a zip object, which is an iterator of tuples where the first item in each passed iterator is paired together, and then the second item in each passed iterator are paired together etc.\n",
    "\n",
    "If the passed iterators have different lengths, the iterator with the least items decides the length of the new iterator."
   ]
  },
  {
   "cell_type": "code",
   "execution_count": 23,
   "id": "a9fcc5b3-8c3d-4644-950c-f863ddf16f40",
   "metadata": {},
   "outputs": [
    {
     "name": "stdout",
     "output_type": "stream",
     "text": [
      "(1, 'red') (2, 'green') (3, 'blue') (4, 'orange') (5, 'violet') (6, 'yellow') (7, 'indigo')\n"
     ]
    }
   ],
   "source": [
    "numbers = list(range(1, 8))\n",
    "print(*zip(numbers, colours))"
   ]
  },
  {
   "cell_type": "markdown",
   "id": "00b82066-a770-496f-bd26-9bd33219f068",
   "metadata": {},
   "source": [
    "The `all()` and `any()` methods are useful to determine if all or any of the iterators passed to them are `True`."
   ]
  },
  {
   "cell_type": "code",
   "execution_count": 24,
   "id": "cb77978e-ab8b-432d-aac1-2863f30acfe1",
   "metadata": {},
   "outputs": [
    {
     "name": "stdout",
     "output_type": "stream",
     "text": [
      "all = False, any = True\n"
     ]
    }
   ],
   "source": [
    "results = [1, 0, 1, 1, 1, 0, 1] # assume these are the results obtained from a number of tests done.\n",
    "\n",
    "print('all = %s, any = %s' %(all(results), any(results)))"
   ]
  },
  {
   "cell_type": "markdown",
   "id": "afa6d7b1-ddd4-465f-a330-b68c9d5550e4",
   "metadata": {},
   "source": [
    "The following operations can only be done on _ordered sequence containers_ such as _lists, strings, ..._"
   ]
  },
  {
   "cell_type": "code",
   "execution_count": 25,
   "id": "6b10b42b-0556-4590-80c7-fff56b0b1343",
   "metadata": {},
   "outputs": [],
   "source": [
    "s = 'Nemo mortalium omnibus horis sapit.'"
   ]
  },
  {
   "cell_type": "markdown",
   "id": "95dbea54-d171-490c-b6be-c1aa6d44993b",
   "metadata": {},
   "source": [
    "**Reverse** an ordered container:"
   ]
  },
  {
   "cell_type": "code",
   "execution_count": 26,
   "id": "8d0d572e-cc2b-4060-971f-658487703703",
   "metadata": {},
   "outputs": [
    {
     "name": "stdout",
     "output_type": "stream",
     "text": [
      ". t i p a s   s i r o h   s u b i n m o   m u i l a t r o m   o m e N\n"
     ]
    }
   ],
   "source": [
    "print(*reversed(s))"
   ]
  },
  {
   "cell_type": "markdown",
   "id": "f4a248da-8829-448d-95f1-04860ffeb71a",
   "metadata": {},
   "source": [
    "**Multiply** the contents of the container."
   ]
  },
  {
   "cell_type": "code",
   "execution_count": 27,
   "id": "9f3dde9c-fa85-4eb9-a6ad-1dcb6a45cbaf",
   "metadata": {},
   "outputs": [
    {
     "name": "stdout",
     "output_type": "stream",
     "text": [
      "Nemo mortalium omnibus horis sapit.Nemo mortalium omnibus horis sapit.Nemo mortalium omnibus horis sapit.\n"
     ]
    }
   ],
   "source": [
    "print(s*3)"
   ]
  },
  {
   "cell_type": "markdown",
   "id": "2af5b493-830d-48a3-bca1-a780748964b6",
   "metadata": {},
   "source": [
    "Check the **index** of a given element in a container.  The `index()` method throws an error if its valuation returns false."
   ]
  },
  {
   "cell_type": "code",
   "execution_count": 28,
   "id": "4d41bb0a-a45a-456f-93ca-95ae9fe0354b",
   "metadata": {},
   "outputs": [
    {
     "data": {
      "text/plain": [
       "3"
      ]
     },
     "execution_count": 28,
     "metadata": {},
     "output_type": "execute_result"
    }
   ],
   "source": [
    "s.index('o')"
   ]
  },
  {
   "cell_type": "code",
   "execution_count": 29,
   "id": "dab06659-c159-49fc-afda-302721dbdb98",
   "metadata": {},
   "outputs": [
    {
     "ename": "ValueError",
     "evalue": "substring not found",
     "output_type": "error",
     "traceback": [
      "\u001b[0;31m---------------------------------------------------------------------------\u001b[0m",
      "\u001b[0;31mValueError\u001b[0m                                Traceback (most recent call last)",
      "\u001b[0;32m/tmp/ipykernel_3168/891189344.py\u001b[0m in \u001b[0;36m<module>\u001b[0;34m\u001b[0m\n\u001b[0;32m----> 1\u001b[0;31m \u001b[0ms\u001b[0m\u001b[0;34m.\u001b[0m\u001b[0mindex\u001b[0m\u001b[0;34m(\u001b[0m\u001b[0;34m'z'\u001b[0m\u001b[0;34m)\u001b[0m\u001b[0;34m\u001b[0m\u001b[0;34m\u001b[0m\u001b[0m\n\u001b[0m",
      "\u001b[0;31mValueError\u001b[0m: substring not found"
     ]
    }
   ],
   "source": [
    "# the error here is expected, see the introduction above these blocks\n",
    "s.index('z')"
   ]
  },
  {
   "cell_type": "code",
   "execution_count": null,
   "id": "beb76716-3844-4dc9-879a-1851d0ce85ee",
   "metadata": {},
   "outputs": [],
   "source": [
    "colours.index('black')"
   ]
  },
  {
   "cell_type": "markdown",
   "id": "11c50f6b-f5d1-47b4-89d6-24f729e1b201",
   "metadata": {},
   "source": [
    "Ordered containers can be **concatinated** using the + operator, such as:"
   ]
  },
  {
   "cell_type": "code",
   "execution_count": 30,
   "id": "33424ae4-19d0-489c-ba49-6dbaedfa7507",
   "metadata": {},
   "outputs": [
    {
     "data": {
      "text/plain": [
       "['red',\n",
       " 'green',\n",
       " 'blue',\n",
       " 'orange',\n",
       " 'violet',\n",
       " 'yellow',\n",
       " 'indigo',\n",
       " 1,\n",
       " 2,\n",
       " 3,\n",
       " 4,\n",
       " 5,\n",
       " 6,\n",
       " 7]"
      ]
     },
     "execution_count": 30,
     "metadata": {},
     "output_type": "execute_result"
    }
   ],
   "source": [
    "colours + numbers"
   ]
  },
  {
   "cell_type": "markdown",
   "id": "399a3bbc-9679-4ce2-a820-284d72c9d102",
   "metadata": {},
   "source": [
    "**count(_val_)** is used to return the number of elements in a container that statisfies _val_."
   ]
  },
  {
   "cell_type": "code",
   "execution_count": 31,
   "id": "cf7ff531-1828-4969-8617-8f885e53d419",
   "metadata": {},
   "outputs": [
    {
     "data": {
      "text/plain": [
       "4"
      ]
     },
     "execution_count": 31,
     "metadata": {},
     "output_type": "execute_result"
    }
   ],
   "source": [
    "s.count('o')"
   ]
  },
  {
   "cell_type": "markdown",
   "id": "f53d6aca-a3ef-4ee9-86c2-b74d7cc05daa",
   "metadata": {},
   "source": [
    "## Operations on Lists\n",
    "\n",
    "Note that the following operations modify the original list."
   ]
  },
  {
   "cell_type": "code",
   "execution_count": 32,
   "id": "ac6eb99e-ff3e-4911-81c5-c8995ff1d5e4",
   "metadata": {},
   "outputs": [
    {
     "data": {
      "text/plain": [
       "['red', 'green', 'blue', 'orange', 'violet', 'yellow', 'indigo']"
      ]
     },
     "execution_count": 32,
     "metadata": {},
     "output_type": "execute_result"
    }
   ],
   "source": [
    "colours"
   ]
  },
  {
   "cell_type": "code",
   "execution_count": 33,
   "id": "b128bba1-8cda-4354-85f1-38ae18bd63a2",
   "metadata": {},
   "outputs": [
    {
     "data": {
      "text/plain": [
       "['red', 'green', 'blue', 'orange', 'violet', 'yellow', 'indigo', 'grey']"
      ]
     },
     "execution_count": 33,
     "metadata": {},
     "output_type": "execute_result"
    }
   ],
   "source": [
    "colours.append('grey')\n",
    "colours"
   ]
  },
  {
   "cell_type": "code",
   "execution_count": 34,
   "id": "70e9c5b4-8179-47d6-9239-e91ea22ce954",
   "metadata": {},
   "outputs": [
    {
     "data": {
      "text/plain": [
       "['red',\n",
       " 'green',\n",
       " 'blue',\n",
       " 'orange',\n",
       " 'violet',\n",
       " 'yellow',\n",
       " 'indigo',\n",
       " 'grey',\n",
       " 'white',\n",
       " 'black']"
      ]
     },
     "execution_count": 34,
     "metadata": {},
     "output_type": "execute_result"
    }
   ],
   "source": [
    "colours.extend(['white', 'black'])   # ok, some may argue that white is all colours and black is no colour, but this is Python and everything is possible!!\n",
    "colours"
   ]
  },
  {
   "cell_type": "code",
   "execution_count": 35,
   "id": "6fe9ddd4-2112-4e4c-91ef-7d3ab66e9ac5",
   "metadata": {},
   "outputs": [
    {
     "data": {
      "text/plain": [
       "['magenta',\n",
       " 'red',\n",
       " 'green',\n",
       " 'blue',\n",
       " 'orange',\n",
       " 'violet',\n",
       " 'yellow',\n",
       " 'indigo',\n",
       " 'grey',\n",
       " 'white',\n",
       " 'black']"
      ]
     },
     "execution_count": 35,
     "metadata": {},
     "output_type": "execute_result"
    }
   ],
   "source": [
    "colours.insert(0, 'magenta')\n",
    "colours"
   ]
  },
  {
   "cell_type": "code",
   "execution_count": 36,
   "id": "340b3564-115b-43e8-a579-484e5ec00d30",
   "metadata": {},
   "outputs": [
    {
     "data": {
      "text/plain": [
       "['magenta',\n",
       " 'red',\n",
       " 'green',\n",
       " 'blue',\n",
       " 'orange',\n",
       " 'violet',\n",
       " 'yellow',\n",
       " 'indigo',\n",
       " 'white',\n",
       " 'black']"
      ]
     },
     "execution_count": 36,
     "metadata": {},
     "output_type": "execute_result"
    }
   ],
   "source": [
    "colours.remove('grey')\n",
    "colours"
   ]
  },
  {
   "cell_type": "code",
   "execution_count": 37,
   "id": "bf967d23-89b1-477b-9322-48550994c719",
   "metadata": {},
   "outputs": [
    {
     "data": {
      "text/plain": [
       "'black'"
      ]
     },
     "execution_count": 37,
     "metadata": {},
     "output_type": "execute_result"
    }
   ],
   "source": [
    "colours.pop()"
   ]
  },
  {
   "cell_type": "code",
   "execution_count": 38,
   "id": "1924da03-5053-474e-b132-3285b904314b",
   "metadata": {},
   "outputs": [
    {
     "data": {
      "text/plain": [
       "['magenta',\n",
       " 'red',\n",
       " 'green',\n",
       " 'blue',\n",
       " 'orange',\n",
       " 'violet',\n",
       " 'yellow',\n",
       " 'indigo',\n",
       " 'white']"
      ]
     },
     "execution_count": 38,
     "metadata": {},
     "output_type": "execute_result"
    }
   ],
   "source": [
    "colours"
   ]
  },
  {
   "cell_type": "code",
   "execution_count": 39,
   "id": "7a2385e7-72d9-450f-813a-d3bf30aa48b4",
   "metadata": {},
   "outputs": [
    {
     "data": {
      "text/plain": [
       "['blue',\n",
       " 'green',\n",
       " 'indigo',\n",
       " 'magenta',\n",
       " 'orange',\n",
       " 'red',\n",
       " 'violet',\n",
       " 'white',\n",
       " 'yellow']"
      ]
     },
     "execution_count": 39,
     "metadata": {},
     "output_type": "execute_result"
    }
   ],
   "source": [
    "colours.sort()\n",
    "colours"
   ]
  },
  {
   "cell_type": "code",
   "execution_count": 40,
   "id": "de4edd23-2c04-4623-82b0-16982960cc7f",
   "metadata": {},
   "outputs": [
    {
     "data": {
      "text/plain": [
       "['yellow',\n",
       " 'white',\n",
       " 'violet',\n",
       " 'red',\n",
       " 'orange',\n",
       " 'magenta',\n",
       " 'indigo',\n",
       " 'green',\n",
       " 'blue']"
      ]
     },
     "execution_count": 40,
     "metadata": {},
     "output_type": "execute_result"
    }
   ],
   "source": [
    "colours.reverse()\n",
    "colours"
   ]
  },
  {
   "cell_type": "code",
   "execution_count": null,
   "id": "cdf2131a-d4d4-42f5-9915-e6acc2aa8fbb",
   "metadata": {},
   "outputs": [],
   "source": []
  }
 ],
 "metadata": {
  "kernelspec": {
   "display_name": "Python 3 (ipykernel)",
   "language": "python",
   "name": "python3"
  },
  "language_info": {
   "codemirror_mode": {
    "name": "ipython",
    "version": 3
   },
   "file_extension": ".py",
   "mimetype": "text/x-python",
   "name": "python",
   "nbconvert_exporter": "python",
   "pygments_lexer": "ipython3",
   "version": "3.9.2"
  }
 },
 "nbformat": 4,
 "nbformat_minor": 5
}
